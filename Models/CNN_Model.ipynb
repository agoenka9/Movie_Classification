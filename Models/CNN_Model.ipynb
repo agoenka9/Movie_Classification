{
  "nbformat": 4,
  "nbformat_minor": 0,
  "metadata": {
    "colab": {
      "name": "model_initial.ipynb",
      "provenance": [],
      "collapsed_sections": [],
      "toc_visible": true
    },
    "kernelspec": {
      "name": "python3",
      "display_name": "Python 3"
    }
  },
  "cells": [
    {
      "cell_type": "code",
      "metadata": {
        "id": "LOSpqruMpN0X",
        "colab_type": "code",
        "colab": {}
      },
      "source": [
        "import pandas as pd\n",
        "import numpy as np\n",
        "from datetime import datetime,timedelta\n",
        "from google.colab import files\n",
        "from google.colab import drive\n",
        "import torch\n",
        "from sklearn.model_selection import train_test_split\n",
        "from torch.utils.data import TensorDataset, Dataset"
      ],
      "execution_count": 0,
      "outputs": []
    },
    {
      "cell_type": "code",
      "metadata": {
        "id": "kYOjouBnSQGB",
        "colab_type": "code",
        "outputId": "0194bea7-a77b-4bdd-a601-05defcc5c2e6",
        "colab": {
          "base_uri": "https://localhost:8080/",
          "height": 126
        }
      },
      "source": [
        "from google.colab import drive\n",
        "drive.mount('/content/drive', force_remount=True)"
      ],
      "execution_count": 2,
      "outputs": [
        {
          "output_type": "stream",
          "text": [
            "Go to this URL in a browser: https://accounts.google.com/o/oauth2/auth?client_id=947318989803-6bn6qk8qdgf4n4g3pfee6491hc0brc4i.apps.googleusercontent.com&redirect_uri=urn%3aietf%3awg%3aoauth%3a2.0%3aoob&response_type=code&scope=email%20https%3a%2f%2fwww.googleapis.com%2fauth%2fdocs.test%20https%3a%2f%2fwww.googleapis.com%2fauth%2fdrive%20https%3a%2f%2fwww.googleapis.com%2fauth%2fdrive.photos.readonly%20https%3a%2f%2fwww.googleapis.com%2fauth%2fpeopleapi.readonly\n",
            "\n",
            "Enter your authorization code:\n",
            "··········\n",
            "Mounted at /content/drive\n"
          ],
          "name": "stdout"
        }
      ]
    },
    {
      "cell_type": "code",
      "metadata": {
        "id": "3wemd9oAwKT9",
        "colab_type": "code",
        "outputId": "9d091b27-d962-474c-bcbb-dcfbf0c0f665",
        "colab": {
          "base_uri": "https://localhost:8080/",
          "height": 52
        }
      },
      "source": [
        "%cd drive/My\\ Drive\n",
        "!pwd"
      ],
      "execution_count": 3,
      "outputs": [
        {
          "output_type": "stream",
          "text": [
            "/content/drive/My Drive\n",
            "/content/drive/My Drive\n"
          ],
          "name": "stdout"
        }
      ]
    },
    {
      "cell_type": "code",
      "metadata": {
        "id": "8LmeXv9GskH6",
        "colab_type": "code",
        "outputId": "0df30bad-2b95-4239-e69a-4469295836f5",
        "colab": {
          "base_uri": "https://localhost:8080/",
          "height": 88
        }
      },
      "source": [
        "data_1 = pd.read_csv(\"Results/F4_model_data_target_3.csv\")\n",
        "data_1['t'].value_counts()"
      ],
      "execution_count": 0,
      "outputs": [
        {
          "output_type": "execute_result",
          "data": {
            "text/plain": [
              "1    276\n",
              "3     78\n",
              "2     66\n",
              "Name: t, dtype: int64"
            ]
          },
          "metadata": {
            "tags": []
          },
          "execution_count": 92
        }
      ]
    },
    {
      "cell_type": "markdown",
      "metadata": {
        "id": "_mNmxZ67p--T",
        "colab_type": "text"
      },
      "source": [
        "Trying out a basic CNN model first:\n"
      ]
    },
    {
      "cell_type": "code",
      "metadata": {
        "id": "2rLgGWspqCk9",
        "colab_type": "code",
        "colab": {}
      },
      "source": [
        "cnn_data = pd.read_csv(\"/content/drive/My Drive/Results/F4_model_data_500_catex.csv\")\n",
        "#cnn_data = pd.read_csv(\"/content/drive/My Drive/project/Results/final_all_model_data.csv\")\n",
        "cnn_target = pd.read_csv(\"/content/drive/My Drive/Results/F4_model_data_target_3.csv\")\n",
        "#cnn_target = pd.read_csv(\"/content/drive/My Drive/project/Results/final_all_model_target.csv\")\n",
        "cnn_target[\"t1\"] = cnn_target[\"t\"] - 1\n",
        "cnn_data1 = np.array(cnn_data.values)[:,1:]\n",
        "cnn_target1 = np.array(cnn_target['t1'].values)\n",
        "\n",
        "cnn_data_train, cnn_data_test, cnn_target_train, cnn_target_test = train_test_split(cnn_data1, cnn_target1, test_size=0.3, random_state=42)\n",
        "\n",
        "\"\"\"\n",
        "mlp_data_train1_X=torch.tensor(cnn_data_train.astype(np.float32))\n",
        "mlp_data_train1_y=torch.tensor(cnn_target_train)\n",
        "mlp_data_train=TensorDataset(mlp_data_train1_X, mlp_data_train1_y)\n",
        "\n",
        "mlp_data_test1_X=torch.tensor(cnn_data_test.astype(np.float32))\n",
        "mlp_data_test1_y=torch.tensor(cnn_target_test)\n",
        "mlp_data_test=TensorDataset(mlp_data_test1_X, mlp_data_test1_y)\n",
        "\"\"\"\n",
        "\n",
        "\n",
        "cnn_data_train1 = torch.tensor(cnn_data_train.reshape([cnn_data_train.shape[0],1,cnn_data_train.shape[1]]).astype(np.float32))\n",
        "cnn_data_test1 = torch.tensor(cnn_data_test.reshape([cnn_data_test.shape[0],1,cnn_data_test.shape[1]]).astype(np.float32))\n",
        "\n",
        "# cnn_data_train1 = torch.tensor(cnn_data_train.reshape([cnn_data_train.shape[0],cnn_data_train.shape[1],1]).astype(np.float32))\n",
        "# cnn_data_test1 = torch.tensor(cnn_data_test.reshape([cnn_data_test.shape[0],cnn_data_test.shape[1],1]).astype(np.float32))\n",
        "\n",
        "cnn_train_dataset = TensorDataset(cnn_data_train1, torch.tensor(cnn_target_train))\n",
        "cnn_test_dataset = TensorDataset(cnn_data_test1, torch.tensor(cnn_target_test))"
      ],
      "execution_count": 0,
      "outputs": []
    },
    {
      "cell_type": "code",
      "metadata": {
        "id": "d0s__A8PJpgu",
        "colab_type": "code",
        "outputId": "d4e0f634-0bfd-4c52-a665-4fdecd57aee8",
        "colab": {
          "base_uri": "https://localhost:8080/",
          "height": 132
        }
      },
      "source": [
        "# def load_dataset(raw_data, model_type):\n",
        "#     #raw_data= pd.read_csv(path)\n",
        "#     Y=np.array(target)\n",
        "#     Y=Y-1\n",
        "#     #Y=Y.astype(np.float32)\n",
        "#     del raw_data['y']\n",
        "#     X=raw_data.to_numpy()\n",
        "#     X=X.astype(np.float32)\n",
        "#     if model_type == 'MLP':\n",
        "#         data = torch.tensor(X)\n",
        "#         target = torch.tensor(Y)\n",
        "#         dataset = TensorDataset(data, target)\n",
        "#     elif model_type == 'CNN':\n",
        "#         data = torch.from_numpy(X).unsqueeze(1)\n",
        "#         #torch.tensor(X.unsqueeze(1))\n",
        "#         target = torch.tensor(Y)\n",
        "#         dataset = TensorDataset(data, target)\n",
        "#     elif model_type == 'RNN':\n",
        "#         data = torch.from_numpy(X).unsqueeze(2)\n",
        "#         target = torch.tensor(Y)\n",
        "#         dataset = TensorDataset(data, target)\n",
        "#     else:\n",
        "#         raise AssertionError(\"Wrong Model Type!\")\n",
        "#     return dataset"
      ],
      "execution_count": 0,
      "outputs": [
        {
          "output_type": "error",
          "ename": "SyntaxError",
          "evalue": "ignored",
          "traceback": [
            "\u001b[0;36m  File \u001b[0;32m\"<ipython-input-8-f497b8508727>\"\u001b[0;36m, line \u001b[0;32m1\u001b[0m\n\u001b[0;31m    def load_dataset(raw_data, target model_type):\u001b[0m\n\u001b[0m                                               ^\u001b[0m\n\u001b[0;31mSyntaxError\u001b[0m\u001b[0;31m:\u001b[0m invalid syntax\n"
          ]
        }
      ]
    },
    {
      "cell_type": "code",
      "metadata": {
        "id": "4VFy3OF_D0b7",
        "colab_type": "code",
        "outputId": "f1d09ac4-9995-4f96-c72f-1b295b6c9856",
        "colab": {
          "base_uri": "https://localhost:8080/",
          "height": 35
        }
      },
      "source": [
        "cnn_data_train1.shape"
      ],
      "execution_count": 23,
      "outputs": [
        {
          "output_type": "execute_result",
          "data": {
            "text/plain": [
              "torch.Size([294, 1, 556])"
            ]
          },
          "metadata": {
            "tags": []
          },
          "execution_count": 23
        }
      ]
    },
    {
      "cell_type": "code",
      "metadata": {
        "id": "t5ymEoY2t1-u",
        "colab_type": "code",
        "colab": {}
      },
      "source": [
        "import torch\n",
        "import torch.nn as nn\n",
        "from torch.nn.utils.rnn import pack_padded_sequence, pad_packed_sequence\n",
        "import torch.nn.functional as F\n",
        "from torch.autograd import Variable\n",
        "\"\"\"\n",
        "class MyCNN(nn.Module):\n",
        "    def __init__(self):\n",
        "        super(MyCNN, self).__init__()\n",
        "        self.conv1 = nn.Conv1d(1,6,4)  #unimproved model\n",
        "        self.conv2 = nn.Conv1d(6,16,4)  #unimproved model\n",
        "        self.conv3 = nn.Conv1d(16,32,4)  #unimproved model\n",
        "        self.rel = nn.ReLU()  #unimproved model\n",
        "        self.max_pool = nn.MaxPool1d(2)  #unimproved model\n",
        "        self.layer1 = nn.Linear(32*1083, 1024)\n",
        "        self.layer2 = nn.Linear(1024, 128)\n",
        "          #unimproved model\n",
        "        self.layer3 = nn.Linear(128,4)  #unimproved model\n",
        "        #self.dropout = nn.Dropout(0.2)  #improved model\n",
        "\n",
        "    def forward(self, x):\n",
        "        # x = self.max_pool(self.rel(self.conv1(x)))  #unimproved model\n",
        "        # x = self.max_pool(self.rel(self.conv2(x)))  #unimproved model\n",
        "        # x = x.view(-1, 656)  #unimproved model\n",
        "        # x = self.rel(self.layer1(x))  #unimproved model\n",
        "        # x = self.layer2(x)  #unimproved model\n",
        "        x = self.max_pool(self.rel(self.conv1(x)))  #improved model\n",
        "        x = self.max_pool(self.rel(self.conv2(x)))  #improved model\n",
        "        x = self.max_pool(self.rel(self.conv3(x)))\n",
        "        x = x.view(-1, 32*1083)  #improved model\n",
        "        x = F.relu(self.layer1(x))  #improved model\n",
        "        x=F.relu(self.layer2(x))\n",
        "        x = self.layer3(x)  #improved model\n",
        "        return x\n",
        "\"\"\"\n",
        "\n",
        "class MyCNN(nn.Module):\n",
        "    def __init__(self):\n",
        "        super(MyCNN, self).__init__()\n",
        "        self.conv1 = nn.Conv1d(1,6,5)\n",
        "        self.rel = nn.ReLU()\n",
        "        self.max_pool = nn.MaxPool1d(2)\n",
        "        self.layer1 = nn.Linear(6*276, 4)\n",
        "\n",
        "    def forward(self, x):\n",
        "        x = self.max_pool(self.rel(self.conv1(x)))\n",
        "        x = x.view(-1, 6*276)\n",
        "        x = self.layer1(x)\n",
        "        return x\n",
        "\n",
        "class MyCRNN(nn.Module):\n",
        "    def __init__(self):\n",
        "        super(MyCRNN, self).__init__()\n",
        "        #self.conv1 = nn.Conv1d(1,6,5)\n",
        "        self.conv1 = nn.Conv1d(1,1,5)\n",
        "        self.rel = nn.ReLU()\n",
        "        self.max_pool = nn.MaxPool1d(2)\n",
        "        self.layer_gru = nn.GRU(input_size=1, hidden_size=16, num_layers=1, batch_first=True, dropout=0.2)\n",
        "        self.layer1 = nn.Linear(16, 3)\n",
        "\n",
        "    def forward(self, x):\n",
        "        x = self.max_pool(self.rel(self.conv1(x)))\n",
        "        x = x.view(x.shape[0], x.shape[2], x.shape[1])\n",
        "        x, _ = self.layer_gru(x)\n",
        "        x = self.layer1(x[:,-1,:])\n",
        "        return x\n",
        "\n",
        "class MyRNN(nn.Module):\n",
        "    def __init__(self):\n",
        "        super(MyRNN, self).__init__()\n",
        "        # self.layer1 = nn.GRU(input_size=1, hidden_size=16, num_layers=1, batch_first=True)  #unimproved model\n",
        "        # self.layer2 = nn.Linear(16,5)  #unimproved model\n",
        "        self.layer1 = nn.GRU(input_size=1, hidden_size=16, num_layers=1, batch_first=True, dropout=0.2)  #improved model\n",
        "        self.layer2 = nn.Linear(16,3)  #improved model\n",
        "        self.rel = nn.ReLU()  #improved model\n",
        "\n",
        "    def forward(self, x):\n",
        "        x, _ = self.layer1(x)  #unimproved model\n",
        "        x = self.rel(x[:,-1,:])  #improved model\n",
        "        x = self.layer2(x)  #unimproved model\n",
        "        return x"
      ],
      "execution_count": 0,
      "outputs": []
    },
    {
      "cell_type": "code",
      "metadata": {
        "id": "7APg-93BIFeH",
        "colab_type": "code",
        "colab": {}
      },
      "source": [
        "class MyMLP(nn.Module):\n",
        "    def __init__(self):\n",
        "        super(MyMLP, self).__init__()\n",
        "        self.hidden1 = nn.Linear(8686, 128)\n",
        "        #self.hidden2 = nn.Linear(128,16)\n",
        "        #self.hidden4 = nn.Linear(64,16)        \n",
        "        self.out = nn.Linear(128, 4)\n",
        "        self.dropout = nn.Dropout(0.2)\n",
        "    def forward(self, x):\n",
        "        x = F.leaky_relu(self.dropout(self.hidden1(x)))\n",
        "        #x = F.relu(self.hidden2(x))\n",
        "        #x = F.relu(self.hidden4(x))\n",
        "        x = self.out(x)\n",
        "        return x"
      ],
      "execution_count": 0,
      "outputs": []
    },
    {
      "cell_type": "code",
      "metadata": {
        "id": "phoqIpkLvXVs",
        "colab_type": "code",
        "colab": {}
      },
      "source": [
        "class AverageMeter(object):\n",
        "\t\"\"\"Computes and stores the average and current value\"\"\"\n",
        "\n",
        "\tdef __init__(self):\n",
        "\t\tself.reset()\n",
        "\n",
        "\tdef reset(self):\n",
        "\t\tself.val = 0\n",
        "\t\tself.avg = 0\n",
        "\t\tself.sum = 0\n",
        "\t\tself.count = 0\n",
        "\n",
        "\tdef update(self, val, n=1):\n",
        "\t\tself.val = val\n",
        "\t\tself.sum += val * n\n",
        "\t\tself.count += n\n",
        "\t\tself.avg = self.sum / self.count\n",
        "\n",
        "def compute_batch_accuracy(output, target):\n",
        "\t\"\"\"Computes the accuracy for a batch\"\"\"\n",
        "\twith torch.no_grad():\n",
        "\n",
        "\t\tbatch_size = target.size(0)\n",
        "\t\t_, pred = output.max(1)\n",
        "\t\tcorrect = pred.eq(target).sum()\n",
        "\n",
        "\t\treturn correct * 100.0 / batch_size\n",
        "\n",
        "def train(model, device, data_loader, criterion, optimizer, epoch, print_freq=10):\n",
        "\tbatch_time = AverageMeter()\n",
        "\tdata_time = AverageMeter()\n",
        "\tlosses = AverageMeter()\n",
        "\taccuracy = AverageMeter()\n",
        "\n",
        "\tmodel.train()\n",
        "\n",
        "\tend = time.time()\n",
        "\tfor i, (input, target) in enumerate(data_loader):\n",
        "\t\t# measure data loading time\n",
        "\t\tdata_time.update(time.time() - end)\n",
        "\n",
        "\t\tif isinstance(input, tuple):\n",
        "\t\t\tinput = tuple([e.to(device) if type(e) == torch.Tensor else e for e in input])\n",
        "\t\telse:\n",
        "\t\t\tinput = input.to(device)\n",
        "\t\ttarget = target.to(device)\n",
        "\n",
        "\t\toptimizer.zero_grad()\n",
        "\t\toutput = model(input)\n",
        "\t\tloss = criterion(output, target)\n",
        "\t\tassert not np.isnan(loss.item()), 'Model diverged with loss = NaN'\n",
        "\n",
        "\t\tloss.backward()\n",
        "\t\toptimizer.step()\n",
        "\n",
        "\t\t# measure elapsed time\n",
        "\t\tbatch_time.update(time.time() - end)\n",
        "\t\tend = time.time()\n",
        "\n",
        "\t\tlosses.update(loss.item(), target.size(0))\n",
        "\t\taccuracy.update(compute_batch_accuracy(output, target).item(), target.size(0))\n",
        "\n",
        "\t\tif i % print_freq == 0:\n",
        "\t\t\tprint('Epoch: [{0}][{1}/{2}]\\t'\n",
        "\t\t\t\t  'Time {batch_time.val:.3f} ({batch_time.avg:.3f})\\t'\n",
        "\t\t\t\t  'Data {data_time.val:.3f} ({data_time.avg:.3f})\\t'\n",
        "\t\t\t\t  'Loss {loss.val:.4f} ({loss.avg:.4f})\\t'\n",
        "\t\t\t\t  'Accuracy {acc.val:.3f} ({acc.avg:.3f})'.format(\n",
        "\t\t\t\tepoch, i, len(data_loader), batch_time=batch_time,\n",
        "\t\t\t\tdata_time=data_time, loss=losses, acc=accuracy))\n",
        "\n",
        "\treturn losses.avg, accuracy.avg\n",
        "\n",
        "\n",
        "\n",
        "def evaluate(model, device, data_loader, criterion, print_freq=10):\n",
        "\tbatch_time = AverageMeter()\n",
        "\tlosses = AverageMeter()\n",
        "\taccuracy = AverageMeter()\n",
        "\n",
        "\tresults = []\n",
        "\n",
        "\tmodel.eval()\n",
        "\n",
        "\twith torch.no_grad():\n",
        "\t\tend = time.time()\n",
        "\t\tfor i, (input, target) in enumerate(data_loader):\n",
        "\n",
        "\t\t\tif isinstance(input, tuple):\n",
        "\t\t\t\tinput = tuple([e.to(device) if type(e) == torch.Tensor else e for e in input])\n",
        "\t\t\telse:\n",
        "\t\t\t\tinput = input.to(device)\n",
        "\t\t\ttarget = target.to(device)\n",
        "\n",
        "\t\t\toutput = model(input)\n",
        "\t\t\tloss = criterion(output, target)\n",
        "\n",
        "\t\t\t# measure elapsed time\n",
        "\t\t\tbatch_time.update(time.time() - end)\n",
        "\t\t\tend = time.time()\n",
        "\n",
        "\t\t\tlosses.update(loss.item(), target.size(0))\n",
        "\t\t\taccuracy.update(compute_batch_accuracy(output, target).item(), target.size(0))\n",
        "\n",
        "\t\t\ty_true = target.detach().to('cpu').numpy().tolist()\n",
        "\t\t\ty_pred = output.detach().to('cpu').max(1)[1].numpy().tolist()\n",
        "\t\t\tresults.extend(list(zip(y_true, y_pred)))\n",
        "\n",
        "\t\t\tif i % print_freq == 0:\n",
        "\t\t\t\tprint('Test: [{0}/{1}]\\t'\n",
        "\t\t\t\t\t  'Time {batch_time.val:.3f} ({batch_time.avg:.3f})\\t'\n",
        "\t\t\t\t\t  'Loss {loss.val:.4f} ({loss.avg:.4f})\\t'\n",
        "\t\t\t\t\t  'Accuracy {acc.val:.3f} ({acc.avg:.3f})'.format(\n",
        "\t\t\t\t\ti, len(data_loader), batch_time=batch_time, loss=losses, acc=accuracy))\n",
        "\n",
        "\treturn losses.avg, accuracy.avg, results"
      ],
      "execution_count": 0,
      "outputs": []
    },
    {
      "cell_type": "code",
      "metadata": {
        "id": "IUx4E_ofwwlz",
        "colab_type": "code",
        "outputId": "b216fa3c-b282-4efe-b433-f949029f8108",
        "colab": {
          "base_uri": "https://localhost:8080/",
          "height": 1000
        }
      },
      "source": [
        "import time\n",
        "import torch\n",
        "import torch.nn as nn\n",
        "from torch.utils.data import DataLoader\n",
        "import torch.optim as optim\n",
        "\n",
        "NUM_EPOCHS = 10\n",
        "BATCH_SIZE = 4\n",
        "USE_CUDA = True  # Set 'True' if you want to use GPU\n",
        "NUM_WORKERS = 0  # Number of threads used by DataLoader. You can adjust this according to your machine spec.\n",
        "\n",
        "device = torch.device(\"cuda\" if USE_CUDA and torch.cuda.is_available() else \"cpu\")\n",
        "torch.manual_seed(1)\n",
        "if device.type == \"cuda\":\n",
        "\ttorch.backends.cudnn.deterministic = True\n",
        "\ttorch.backends.cudnn.benchmark = False\n",
        "\n",
        "\n",
        "train_loader = torch.utils.data.DataLoader(cnn_train_dataset, batch_size=BATCH_SIZE, shuffle=True, num_workers=NUM_WORKERS)\n",
        "valid_loader = torch.utils.data.DataLoader(cnn_test_dataset, batch_size=BATCH_SIZE, shuffle=False, num_workers=NUM_WORKERS)\n",
        "\"\"\"\n",
        "train_loader = torch.utils.data.DataLoader(mlp_data_train, batch_size=BATCH_SIZE, shuffle=True, num_workers=NUM_WORKERS)\n",
        "valid_loader = torch.utils.data.DataLoader(mlp_data_test, batch_size=BATCH_SIZE, shuffle=False, num_workers=NUM_WORKERS)\n",
        "\"\"\"\n",
        "#change here\n",
        "model = MyCNN()\n",
        "#model = MyMLP()\n",
        "criterion = nn.CrossEntropyLoss()\n",
        "optimizer = optim.Adam(model.parameters())\n",
        "\n",
        "device = torch.device(\"cuda\" if torch.cuda.is_available() else \"cpu\")\n",
        "model.to(device)\n",
        "criterion.to(device)\n",
        "\n",
        "best_val_acc = 0.0\n",
        "train_losses, train_accuracies = [], []\n",
        "valid_losses, valid_accuracies = [], []\n",
        "\n",
        "for epoch in range(NUM_EPOCHS):\n",
        "\ttrain_loss, train_accuracy = train(model, device, train_loader, criterion, optimizer, epoch)\n",
        "\tvalid_loss, valid_accuracy, valid_results = evaluate(model, device, valid_loader, criterion)\n",
        "\n",
        "\ttrain_losses.append(train_loss)\n",
        "\tvalid_losses.append(valid_loss)\n",
        "\n",
        "\ttrain_accuracies.append(train_accuracy)\n",
        "\tvalid_accuracies.append(valid_accuracy)\n",
        "\n",
        "\tis_best = valid_accuracy > best_val_acc  # let's keep the model that has the best accuracy, but you can also use another metric.\n",
        "\tif is_best:\n",
        "\t\tbest_val_acc = valid_accuracy"
      ],
      "execution_count": 25,
      "outputs": [
        {
          "output_type": "stream",
          "text": [
            "Epoch: [0][0/74]\tTime 0.005 (0.005)\tData 0.000 (0.000)\tLoss 1.5801 (1.5801)\tAccuracy 0.000 (0.000)\n",
            "Epoch: [0][10/74]\tTime 0.002 (0.003)\tData 0.000 (0.000)\tLoss 1.0168 (1.2945)\tAccuracy 50.000 (34.091)\n",
            "Epoch: [0][20/74]\tTime 0.002 (0.003)\tData 0.000 (0.000)\tLoss 1.4965 (1.1299)\tAccuracy 25.000 (47.619)\n",
            "Epoch: [0][30/74]\tTime 0.002 (0.002)\tData 0.000 (0.000)\tLoss 0.5198 (1.0236)\tAccuracy 100.000 (55.645)\n",
            "Epoch: [0][40/74]\tTime 0.002 (0.002)\tData 0.000 (0.000)\tLoss 1.8874 (1.0245)\tAccuracy 25.000 (57.317)\n",
            "Epoch: [0][50/74]\tTime 0.002 (0.002)\tData 0.000 (0.000)\tLoss 0.4613 (0.9974)\tAccuracy 100.000 (58.333)\n",
            "Epoch: [0][60/74]\tTime 0.002 (0.002)\tData 0.000 (0.000)\tLoss 0.4743 (0.9609)\tAccuracy 75.000 (60.246)\n",
            "Epoch: [0][70/74]\tTime 0.002 (0.002)\tData 0.000 (0.000)\tLoss 0.8100 (0.9211)\tAccuracy 75.000 (62.676)\n",
            "Test: [0/32]\tTime 0.001 (0.001)\tLoss 0.1844 (0.1844)\tAccuracy 100.000 (100.000)\n",
            "Test: [10/32]\tTime 0.001 (0.001)\tLoss 1.6338 (0.8317)\tAccuracy 25.000 (61.364)\n",
            "Test: [20/32]\tTime 0.001 (0.001)\tLoss 1.5892 (0.8831)\tAccuracy 25.000 (59.524)\n",
            "Test: [30/32]\tTime 0.001 (0.001)\tLoss 1.0770 (0.8796)\tAccuracy 50.000 (59.677)\n",
            "Epoch: [1][0/74]\tTime 0.002 (0.002)\tData 0.000 (0.000)\tLoss 0.1889 (0.1889)\tAccuracy 100.000 (100.000)\n",
            "Epoch: [1][10/74]\tTime 0.006 (0.002)\tData 0.001 (0.000)\tLoss 0.4078 (0.7262)\tAccuracy 100.000 (72.727)\n",
            "Epoch: [1][20/74]\tTime 0.002 (0.002)\tData 0.000 (0.000)\tLoss 0.4809 (0.6756)\tAccuracy 75.000 (75.000)\n",
            "Epoch: [1][30/74]\tTime 0.002 (0.002)\tData 0.000 (0.000)\tLoss 0.6624 (0.7187)\tAccuracy 75.000 (75.000)\n",
            "Epoch: [1][40/74]\tTime 0.002 (0.002)\tData 0.000 (0.000)\tLoss 1.0150 (0.7621)\tAccuracy 25.000 (70.122)\n",
            "Epoch: [1][50/74]\tTime 0.002 (0.002)\tData 0.000 (0.000)\tLoss 0.4769 (0.7696)\tAccuracy 75.000 (68.627)\n",
            "Epoch: [1][60/74]\tTime 0.002 (0.002)\tData 0.000 (0.000)\tLoss 0.1062 (0.7432)\tAccuracy 100.000 (70.902)\n",
            "Epoch: [1][70/74]\tTime 0.002 (0.002)\tData 0.000 (0.000)\tLoss 0.9035 (0.7571)\tAccuracy 50.000 (70.070)\n",
            "Test: [0/32]\tTime 0.001 (0.001)\tLoss 0.2655 (0.2655)\tAccuracy 100.000 (100.000)\n",
            "Test: [10/32]\tTime 0.001 (0.001)\tLoss 2.0049 (0.8889)\tAccuracy 25.000 (68.182)\n",
            "Test: [20/32]\tTime 0.001 (0.001)\tLoss 1.9710 (0.9371)\tAccuracy 25.000 (63.095)\n",
            "Test: [30/32]\tTime 0.001 (0.001)\tLoss 1.1362 (0.9503)\tAccuracy 25.000 (59.677)\n",
            "Epoch: [2][0/74]\tTime 0.002 (0.002)\tData 0.000 (0.000)\tLoss 0.7335 (0.7335)\tAccuracy 75.000 (75.000)\n",
            "Epoch: [2][10/74]\tTime 0.002 (0.002)\tData 0.000 (0.000)\tLoss 1.4455 (0.8303)\tAccuracy 25.000 (68.182)\n",
            "Epoch: [2][20/74]\tTime 0.003 (0.002)\tData 0.000 (0.000)\tLoss 1.1802 (0.7588)\tAccuracy 25.000 (67.857)\n",
            "Epoch: [2][30/74]\tTime 0.002 (0.002)\tData 0.000 (0.000)\tLoss 0.6634 (0.7281)\tAccuracy 75.000 (70.968)\n",
            "Epoch: [2][40/74]\tTime 0.002 (0.002)\tData 0.000 (0.000)\tLoss 0.4089 (0.7601)\tAccuracy 75.000 (70.122)\n",
            "Epoch: [2][50/74]\tTime 0.002 (0.002)\tData 0.000 (0.000)\tLoss 0.9105 (0.7274)\tAccuracy 50.000 (71.078)\n",
            "Epoch: [2][60/74]\tTime 0.002 (0.002)\tData 0.000 (0.000)\tLoss 0.7522 (0.7202)\tAccuracy 50.000 (71.311)\n",
            "Epoch: [2][70/74]\tTime 0.002 (0.002)\tData 0.000 (0.000)\tLoss 0.6814 (0.7361)\tAccuracy 75.000 (70.070)\n",
            "Test: [0/32]\tTime 0.001 (0.001)\tLoss 0.2360 (0.2360)\tAccuracy 100.000 (100.000)\n",
            "Test: [10/32]\tTime 0.001 (0.001)\tLoss 1.4612 (0.7305)\tAccuracy 25.000 (63.636)\n",
            "Test: [20/32]\tTime 0.001 (0.001)\tLoss 1.4490 (0.7799)\tAccuracy 25.000 (61.905)\n",
            "Test: [30/32]\tTime 0.001 (0.001)\tLoss 1.0448 (0.7864)\tAccuracy 50.000 (63.710)\n",
            "Epoch: [3][0/74]\tTime 0.002 (0.002)\tData 0.000 (0.000)\tLoss 0.7053 (0.7053)\tAccuracy 75.000 (75.000)\n",
            "Epoch: [3][10/74]\tTime 0.002 (0.002)\tData 0.000 (0.000)\tLoss 0.2333 (0.6764)\tAccuracy 100.000 (72.727)\n",
            "Epoch: [3][20/74]\tTime 0.002 (0.002)\tData 0.000 (0.000)\tLoss 0.4244 (0.6578)\tAccuracy 100.000 (76.190)\n",
            "Epoch: [3][30/74]\tTime 0.002 (0.002)\tData 0.000 (0.000)\tLoss 1.0562 (0.6772)\tAccuracy 50.000 (75.806)\n",
            "Epoch: [3][40/74]\tTime 0.002 (0.002)\tData 0.000 (0.000)\tLoss 1.0989 (0.6775)\tAccuracy 50.000 (75.000)\n",
            "Epoch: [3][50/74]\tTime 0.002 (0.002)\tData 0.000 (0.000)\tLoss 0.8152 (0.6502)\tAccuracy 75.000 (76.471)\n",
            "Epoch: [3][60/74]\tTime 0.002 (0.002)\tData 0.000 (0.000)\tLoss 1.8821 (0.6679)\tAccuracy 25.000 (75.410)\n",
            "Epoch: [3][70/74]\tTime 0.002 (0.002)\tData 0.000 (0.000)\tLoss 0.4951 (0.6714)\tAccuracy 75.000 (75.000)\n",
            "Test: [0/32]\tTime 0.001 (0.001)\tLoss 0.2196 (0.2196)\tAccuracy 100.000 (100.000)\n",
            "Test: [10/32]\tTime 0.001 (0.001)\tLoss 1.8530 (0.8405)\tAccuracy 25.000 (65.909)\n",
            "Test: [20/32]\tTime 0.001 (0.001)\tLoss 1.8481 (0.8897)\tAccuracy 25.000 (63.095)\n",
            "Test: [30/32]\tTime 0.001 (0.001)\tLoss 1.0930 (0.8948)\tAccuracy 25.000 (59.677)\n",
            "Epoch: [4][0/74]\tTime 0.002 (0.002)\tData 0.000 (0.000)\tLoss 0.4028 (0.4028)\tAccuracy 75.000 (75.000)\n",
            "Epoch: [4][10/74]\tTime 0.002 (0.003)\tData 0.000 (0.000)\tLoss 0.5074 (0.5914)\tAccuracy 75.000 (72.727)\n",
            "Epoch: [4][20/74]\tTime 0.002 (0.003)\tData 0.000 (0.000)\tLoss 0.9872 (0.7618)\tAccuracy 50.000 (66.667)\n",
            "Epoch: [4][30/74]\tTime 0.002 (0.002)\tData 0.000 (0.000)\tLoss 0.8545 (0.7935)\tAccuracy 50.000 (65.323)\n",
            "Epoch: [4][40/74]\tTime 0.002 (0.002)\tData 0.000 (0.000)\tLoss 0.4058 (0.7259)\tAccuracy 75.000 (71.341)\n",
            "Epoch: [4][50/74]\tTime 0.002 (0.002)\tData 0.000 (0.000)\tLoss 0.4793 (0.6974)\tAccuracy 75.000 (72.059)\n",
            "Epoch: [4][60/74]\tTime 0.002 (0.002)\tData 0.000 (0.000)\tLoss 0.5445 (0.6735)\tAccuracy 75.000 (72.951)\n",
            "Epoch: [4][70/74]\tTime 0.002 (0.002)\tData 0.000 (0.000)\tLoss 0.7204 (0.6774)\tAccuracy 75.000 (73.239)\n",
            "Test: [0/32]\tTime 0.001 (0.001)\tLoss 0.1735 (0.1735)\tAccuracy 100.000 (100.000)\n",
            "Test: [10/32]\tTime 0.001 (0.001)\tLoss 1.3724 (0.6955)\tAccuracy 25.000 (65.909)\n",
            "Test: [20/32]\tTime 0.001 (0.001)\tLoss 1.4162 (0.7502)\tAccuracy 25.000 (63.095)\n",
            "Test: [30/32]\tTime 0.001 (0.001)\tLoss 1.0901 (0.7540)\tAccuracy 50.000 (63.710)\n",
            "Epoch: [5][0/74]\tTime 0.002 (0.002)\tData 0.000 (0.000)\tLoss 0.4612 (0.4612)\tAccuracy 100.000 (100.000)\n",
            "Epoch: [5][10/74]\tTime 0.002 (0.002)\tData 0.000 (0.000)\tLoss 0.7159 (0.5989)\tAccuracy 75.000 (77.273)\n",
            "Epoch: [5][20/74]\tTime 0.002 (0.002)\tData 0.000 (0.000)\tLoss 1.0431 (0.6928)\tAccuracy 50.000 (70.238)\n",
            "Epoch: [5][30/74]\tTime 0.002 (0.002)\tData 0.000 (0.000)\tLoss 0.4294 (0.6570)\tAccuracy 75.000 (73.387)\n",
            "Epoch: [5][40/74]\tTime 0.002 (0.002)\tData 0.000 (0.000)\tLoss 0.7875 (0.6698)\tAccuracy 50.000 (72.561)\n",
            "Epoch: [5][50/74]\tTime 0.002 (0.002)\tData 0.000 (0.000)\tLoss 0.6463 (0.6637)\tAccuracy 100.000 (74.510)\n",
            "Epoch: [5][60/74]\tTime 0.002 (0.002)\tData 0.000 (0.000)\tLoss 0.6098 (0.6340)\tAccuracy 75.000 (76.230)\n",
            "Epoch: [5][70/74]\tTime 0.002 (0.002)\tData 0.000 (0.000)\tLoss 0.7333 (0.6222)\tAccuracy 75.000 (76.408)\n",
            "Test: [0/32]\tTime 0.001 (0.001)\tLoss 0.0996 (0.0996)\tAccuracy 100.000 (100.000)\n",
            "Test: [10/32]\tTime 0.001 (0.001)\tLoss 2.1369 (0.9051)\tAccuracy 25.000 (61.364)\n",
            "Test: [20/32]\tTime 0.001 (0.001)\tLoss 2.2155 (0.9769)\tAccuracy 25.000 (59.524)\n",
            "Test: [30/32]\tTime 0.001 (0.001)\tLoss 1.1613 (0.9618)\tAccuracy 50.000 (58.871)\n",
            "Epoch: [6][0/74]\tTime 0.002 (0.002)\tData 0.000 (0.000)\tLoss 0.2156 (0.2156)\tAccuracy 100.000 (100.000)\n",
            "Epoch: [6][10/74]\tTime 0.002 (0.002)\tData 0.000 (0.000)\tLoss 0.3080 (0.5529)\tAccuracy 100.000 (79.545)\n",
            "Epoch: [6][20/74]\tTime 0.002 (0.002)\tData 0.000 (0.000)\tLoss 1.1106 (0.5709)\tAccuracy 50.000 (83.333)\n",
            "Epoch: [6][30/74]\tTime 0.002 (0.002)\tData 0.000 (0.000)\tLoss 1.3157 (0.5957)\tAccuracy 50.000 (80.645)\n",
            "Epoch: [6][40/74]\tTime 0.002 (0.002)\tData 0.000 (0.000)\tLoss 0.7182 (0.5931)\tAccuracy 75.000 (81.098)\n",
            "Epoch: [6][50/74]\tTime 0.002 (0.002)\tData 0.000 (0.000)\tLoss 0.5384 (0.5867)\tAccuracy 75.000 (80.882)\n",
            "Epoch: [6][60/74]\tTime 0.002 (0.002)\tData 0.000 (0.000)\tLoss 0.3795 (0.5939)\tAccuracy 75.000 (79.918)\n",
            "Epoch: [6][70/74]\tTime 0.002 (0.002)\tData 0.000 (0.000)\tLoss 0.4300 (0.5768)\tAccuracy 75.000 (80.634)\n",
            "Test: [0/32]\tTime 0.001 (0.001)\tLoss 0.1201 (0.1201)\tAccuracy 100.000 (100.000)\n",
            "Test: [10/32]\tTime 0.001 (0.001)\tLoss 1.4782 (0.7959)\tAccuracy 25.000 (63.636)\n",
            "Test: [20/32]\tTime 0.001 (0.001)\tLoss 1.5686 (0.8562)\tAccuracy 25.000 (60.714)\n",
            "Test: [30/32]\tTime 0.001 (0.001)\tLoss 1.0391 (0.8293)\tAccuracy 50.000 (62.097)\n",
            "Epoch: [7][0/74]\tTime 0.002 (0.002)\tData 0.000 (0.000)\tLoss 1.1137 (1.1137)\tAccuracy 25.000 (25.000)\n",
            "Epoch: [7][10/74]\tTime 0.002 (0.002)\tData 0.000 (0.000)\tLoss 0.3733 (0.5433)\tAccuracy 75.000 (81.818)\n",
            "Epoch: [7][20/74]\tTime 0.002 (0.002)\tData 0.000 (0.000)\tLoss 0.4334 (0.5805)\tAccuracy 75.000 (76.190)\n",
            "Epoch: [7][30/74]\tTime 0.002 (0.002)\tData 0.000 (0.000)\tLoss 0.4839 (0.5319)\tAccuracy 50.000 (78.226)\n",
            "Epoch: [7][40/74]\tTime 0.002 (0.002)\tData 0.000 (0.000)\tLoss 0.1701 (0.5155)\tAccuracy 100.000 (78.659)\n",
            "Epoch: [7][50/74]\tTime 0.002 (0.002)\tData 0.000 (0.000)\tLoss 0.5328 (0.5392)\tAccuracy 75.000 (80.392)\n",
            "Epoch: [7][60/74]\tTime 0.002 (0.002)\tData 0.000 (0.000)\tLoss 0.5448 (0.5292)\tAccuracy 75.000 (81.557)\n",
            "Epoch: [7][70/74]\tTime 0.002 (0.002)\tData 0.000 (0.000)\tLoss 0.3487 (0.5342)\tAccuracy 100.000 (81.690)\n",
            "Test: [0/32]\tTime 0.001 (0.001)\tLoss 0.0803 (0.0803)\tAccuracy 100.000 (100.000)\n",
            "Test: [10/32]\tTime 0.001 (0.001)\tLoss 1.4526 (0.7830)\tAccuracy 25.000 (63.636)\n",
            "Test: [20/32]\tTime 0.001 (0.001)\tLoss 1.6189 (0.8517)\tAccuracy 25.000 (61.905)\n",
            "Test: [30/32]\tTime 0.001 (0.001)\tLoss 1.1398 (0.8273)\tAccuracy 75.000 (65.323)\n",
            "Epoch: [8][0/74]\tTime 0.002 (0.002)\tData 0.000 (0.000)\tLoss 0.1299 (0.1299)\tAccuracy 100.000 (100.000)\n",
            "Epoch: [8][10/74]\tTime 0.002 (0.002)\tData 0.000 (0.000)\tLoss 0.2245 (0.5264)\tAccuracy 100.000 (79.545)\n",
            "Epoch: [8][20/74]\tTime 0.002 (0.002)\tData 0.000 (0.000)\tLoss 0.3193 (0.4847)\tAccuracy 100.000 (83.333)\n",
            "Epoch: [8][30/74]\tTime 0.002 (0.002)\tData 0.000 (0.000)\tLoss 0.6680 (0.4816)\tAccuracy 75.000 (83.065)\n",
            "Epoch: [8][40/74]\tTime 0.002 (0.002)\tData 0.000 (0.000)\tLoss 0.3236 (0.4810)\tAccuracy 100.000 (81.707)\n",
            "Epoch: [8][50/74]\tTime 0.002 (0.002)\tData 0.000 (0.000)\tLoss 0.2705 (0.4720)\tAccuracy 100.000 (82.353)\n",
            "Epoch: [8][60/74]\tTime 0.002 (0.002)\tData 0.000 (0.000)\tLoss 0.2436 (0.4797)\tAccuracy 100.000 (81.967)\n",
            "Epoch: [8][70/74]\tTime 0.002 (0.002)\tData 0.000 (0.000)\tLoss 0.8368 (0.4972)\tAccuracy 75.000 (82.042)\n",
            "Test: [0/32]\tTime 0.001 (0.001)\tLoss 0.2742 (0.2742)\tAccuracy 100.000 (100.000)\n",
            "Test: [10/32]\tTime 0.001 (0.001)\tLoss 0.9953 (0.6776)\tAccuracy 50.000 (75.000)\n",
            "Test: [20/32]\tTime 0.001 (0.001)\tLoss 1.0965 (0.7111)\tAccuracy 50.000 (71.429)\n",
            "Test: [30/32]\tTime 0.001 (0.001)\tLoss 0.9110 (0.7090)\tAccuracy 50.000 (71.774)\n",
            "Epoch: [9][0/74]\tTime 0.002 (0.002)\tData 0.000 (0.000)\tLoss 0.4800 (0.4800)\tAccuracy 100.000 (100.000)\n",
            "Epoch: [9][10/74]\tTime 0.002 (0.002)\tData 0.000 (0.000)\tLoss 0.4328 (0.4382)\tAccuracy 100.000 (97.727)\n",
            "Epoch: [9][20/74]\tTime 0.002 (0.002)\tData 0.000 (0.000)\tLoss 0.7084 (0.4428)\tAccuracy 50.000 (88.095)\n",
            "Epoch: [9][30/74]\tTime 0.002 (0.002)\tData 0.000 (0.000)\tLoss 0.3200 (0.4304)\tAccuracy 75.000 (87.097)\n",
            "Epoch: [9][40/74]\tTime 0.002 (0.002)\tData 0.000 (0.000)\tLoss 0.4671 (0.4333)\tAccuracy 75.000 (86.585)\n",
            "Epoch: [9][50/74]\tTime 0.002 (0.002)\tData 0.000 (0.000)\tLoss 0.3959 (0.4800)\tAccuracy 100.000 (84.314)\n",
            "Epoch: [9][60/74]\tTime 0.002 (0.002)\tData 0.000 (0.000)\tLoss 0.6373 (0.4973)\tAccuracy 75.000 (83.607)\n",
            "Epoch: [9][70/74]\tTime 0.002 (0.002)\tData 0.000 (0.000)\tLoss 0.8855 (0.4902)\tAccuracy 50.000 (83.803)\n",
            "Test: [0/32]\tTime 0.001 (0.001)\tLoss 0.0864 (0.0864)\tAccuracy 100.000 (100.000)\n",
            "Test: [10/32]\tTime 0.001 (0.001)\tLoss 1.6564 (0.9143)\tAccuracy 25.000 (63.636)\n",
            "Test: [20/32]\tTime 0.001 (0.001)\tLoss 1.8581 (0.9776)\tAccuracy 25.000 (60.714)\n",
            "Test: [30/32]\tTime 0.001 (0.001)\tLoss 1.0120 (0.9312)\tAccuracy 50.000 (60.484)\n"
          ],
          "name": "stdout"
        }
      ]
    },
    {
      "cell_type": "code",
      "metadata": {
        "id": "vLeBwz89e-E4",
        "colab_type": "code",
        "outputId": "8e64219a-cb33-4c2c-9d9a-bb3fbf56215e",
        "colab": {
          "base_uri": "https://localhost:8080/",
          "height": 195
        }
      },
      "source": [
        "train_accuracies"
      ],
      "execution_count": 27,
      "outputs": [
        {
          "output_type": "execute_result",
          "data": {
            "text/plain": [
              "[63.265306122448976,\n",
              " 70.06802721088435,\n",
              " 70.06802721088435,\n",
              " 75.17006802721089,\n",
              " 73.80952380952381,\n",
              " 75.51020408163265,\n",
              " 79.93197278911565,\n",
              " 81.97278911564626,\n",
              " 82.31292517006803,\n",
              " 83.6734693877551]"
            ]
          },
          "metadata": {
            "tags": []
          },
          "execution_count": 27
        }
      ]
    },
    {
      "cell_type": "code",
      "metadata": {
        "id": "9VK3QOUgU3Kv",
        "colab_type": "code",
        "colab": {}
      },
      "source": [
        "def plot_learning_curves(train_losses, valid_losses, train_accuracies, valid_accuracies):\n",
        "  plt.plot(train_losses, 'C0', label='Training loss')\n",
        "  plt.plot(valid_losses, 'C1', label='Validation loss')\n",
        "  plt.title('Training and Validation Loss')\n",
        "  plt.xlabel('Epochs')\n",
        "  plt.ylabel('Loss')\n",
        "  plt.legend()\n",
        "  plt.savefig('Training and Validation loss.png')\n",
        "  plt.show()\n",
        "  plt.plot(train_accuracies, 'C0', label='Training accuracy')\n",
        "  plt.plot(valid_accuracies, 'C1', label='Validation accuracy')\n",
        "  plt.title('Training and Validation Accuracy')\n",
        "  plt.xlabel('Epochs')\n",
        "  plt.ylabel('Accuracy')\n",
        "  plt.legend()\n",
        "  plt.savefig('Training and Validation Accuracy.png')\n",
        "  plt.show()\n",
        "    \n",
        "  pass"
      ],
      "execution_count": 0,
      "outputs": []
    },
    {
      "cell_type": "code",
      "metadata": {
        "id": "9xfu_CICeH5z",
        "colab_type": "code",
        "colab": {}
      },
      "source": [
        "def plot_confusion_matrix(results, class_names):\n",
        "    actual_y, pred_y = zip(* results)\n",
        "    cm = confusion_matrix(actual_y, pred_y)\n",
        "    #disp = cmd(confusion_matrix=cm,display_labels=class_names)\n",
        "    #disp = disp.plot(include_values=True,cmap=charts.cm.Blues)\n",
        "    #plt.show()\n",
        "    def cmd(cm,labels):\n",
        "        cm = cm.astype('float')/cm.sum(axis = 1)[:, np.newaxis]\n",
        "        n_classes = cm.shape[0]\n",
        "        plt.imshow(cm, interpolation='nearest', cmap=plt.cm.Blues)\n",
        "        plt.title(\"Confusion Matrix\")\n",
        "        plt.colorbar()\n",
        "        plt.xticks(np.arange(n_classes), labels, rotation = 45)\n",
        "        plt.yticks(np.arange(n_classes), labels)\n",
        "        plt.xlabel(\"Predicted\")\n",
        "        plt.ylabel(\"Actual\")\n",
        "        thres = (cm.min()+cm.max())/ 2.0\n",
        "        for i, j in product(range(n_classes), range(n_classes)):\n",
        "            plt.text(j,i,format(cm[i,j],\".2f\"),ha=\"center\", va=\"center\",color=\"white\" if cm[i,j]>thres else \"black\")\n",
        "        plt.tight_layout()\n",
        "        plt.savefig(\"connfusion_matrix.png\")\n",
        "        plt.show()\n",
        "    cmd(cm,class_names)"
      ],
      "execution_count": 0,
      "outputs": []
    },
    {
      "cell_type": "code",
      "metadata": {
        "id": "96SfgdLZekqo",
        "colab_type": "code",
        "colab": {}
      },
      "source": [
        "from sklearn.metrics import confusion_matrix, f1_score\n",
        "from itertools import product\n",
        "import numpy as np"
      ],
      "execution_count": 0,
      "outputs": []
    },
    {
      "cell_type": "code",
      "metadata": {
        "id": "JUuEdBJGeQ45",
        "colab_type": "code",
        "outputId": "57c6337b-81d8-40fb-9512-49d5b89f7b2d",
        "colab": {
          "base_uri": "https://localhost:8080/",
          "height": 297
        }
      },
      "source": [
        "#class_names = ['Flop', 'Below Average', 'Hit', 'Blockbuster']\n",
        "class_names = ['Flop', 'Average', 'Blockbuster']\n",
        "plot_confusion_matrix(valid_results, class_names)"
      ],
      "execution_count": 30,
      "outputs": [
        {
          "output_type": "display_data",
          "data": {
            "image/png": "[encoded data removed]",
            "text/plain": [
              "<Figure size 432x288 with 2 Axes>"
            ]
          },
          "metadata": {
            "tags": [],
            "needs_background": "light"
          }
        }
      ]
    },
    {
      "cell_type": "code",
      "metadata": {
        "id": "w40DJd4X6CCn",
        "colab_type": "code",
        "outputId": "7be57ba1-b221-44c3-adae-302548438805",
        "colab": {
          "base_uri": "https://localhost:8080/",
          "height": 35
        }
      },
      "source": [
        "y_test = [i[0] for i in valid_results]\n",
        "y_pred = [i[1] for i in valid_results]\n",
        "f1score = f1_score(y_test, y_pred, average=None)\n",
        "f1score"
      ],
      "execution_count": 0,
      "outputs": [
        {
          "output_type": "execute_result",
          "data": {
            "text/plain": [
              "array([0.74626866, 0.        , 0.        ])"
            ]
          },
          "metadata": {
            "tags": []
          },
          "execution_count": 129
        }
      ]
    },
    {
      "cell_type": "code",
      "metadata": {
        "id": "cI702k4PU9Fy",
        "colab_type": "code",
        "outputId": "da68a325-a0cf-4cc4-b5f0-81c189a84a40",
        "colab": {
          "base_uri": "https://localhost:8080/",
          "height": 573
        }
      },
      "source": [
        "import matplotlib.pyplot as plt\n",
        "plot_learning_curves(train_losses, valid_losses, train_accuracies, valid_accuracies)"
      ],
      "execution_count": 16,
      "outputs": [
        {
          "output_type": "display_data",
          "data": {
            "image/png": "[encoded data removed]",
            "text/plain": [
              "<Figure size 432x288 with 1 Axes>"
            ]
          },
          "metadata": {
            "tags": [],
            "needs_background": "light"
          }
        },
        {
          "output_type": "display_data",
          "data": {
            "image/png": "[encoded data removed]",
            "text/plain": [
              "<Figure size 432x288 with 1 Axes>"
            ]
          },
          "metadata": {
            "tags": [],
            "needs_background": "light"
          }
        }
      ]
    },
    {
      "cell_type": "code",
      "metadata": {
        "id": "vVqe5NPJazVX",
        "colab_type": "code",
        "outputId": "f5099926-6d88-45bb-a55b-ec119ed40f15",
        "colab": {
          "base_uri": "https://localhost:8080/",
          "height": 997
        }
      },
      "source": [
        "!cat /proc/cpuinfo"
      ],
      "execution_count": 0,
      "outputs": [
        {
          "output_type": "stream",
          "text": [
            "processor\t: 0\n",
            "vendor_id\t: GenuineIntel\n",
            "cpu family\t: 6\n",
            "model\t\t: 63\n",
            "model name\t: Intel(R) Xeon(R) CPU @ 2.30GHz\n",
            "stepping\t: 0\n",
            "microcode\t: 0x1\n",
            "cpu MHz\t\t: 2300.000\n",
            "cache size\t: 46080 KB\n",
            "physical id\t: 0\n",
            "siblings\t: 2\n",
            "core id\t\t: 0\n",
            "cpu cores\t: 1\n",
            "apicid\t\t: 0\n",
            "initial apicid\t: 0\n",
            "fpu\t\t: yes\n",
            "fpu_exception\t: yes\n",
            "cpuid level\t: 13\n",
            "wp\t\t: yes\n",
            "flags\t\t: fpu vme de pse tsc msr pae mce cx8 apic sep mtrr pge mca cmov pat pse36 clflush mmx fxsr sse sse2 ss ht syscall nx pdpe1gb rdtscp lm constant_tsc rep_good nopl xtopology nonstop_tsc cpuid tsc_known_freq pni pclmulqdq ssse3 fma cx16 pcid sse4_1 sse4_2 x2apic movbe popcnt aes xsave avx f16c rdrand hypervisor lahf_lm abm invpcid_single ssbd ibrs ibpb stibp fsgsbase tsc_adjust bmi1 avx2 smep bmi2 erms invpcid xsaveopt arat md_clear arch_capabilities\n",
            "bugs\t\t: cpu_meltdown spectre_v1 spectre_v2 spec_store_bypass l1tf mds swapgs\n",
            "bogomips\t: 4600.00\n",
            "clflush size\t: 64\n",
            "cache_alignment\t: 64\n",
            "address sizes\t: 46 bits physical, 48 bits virtual\n",
            "power management:\n",
            "\n",
            "processor\t: 1\n",
            "vendor_id\t: GenuineIntel\n",
            "cpu family\t: 6\n",
            "model\t\t: 63\n",
            "model name\t: Intel(R) Xeon(R) CPU @ 2.30GHz\n",
            "stepping\t: 0\n",
            "microcode\t: 0x1\n",
            "cpu MHz\t\t: 2300.000\n",
            "cache size\t: 46080 KB\n",
            "physical id\t: 0\n",
            "siblings\t: 2\n",
            "core id\t\t: 0\n",
            "cpu cores\t: 1\n",
            "apicid\t\t: 1\n",
            "initial apicid\t: 1\n",
            "fpu\t\t: yes\n",
            "fpu_exception\t: yes\n",
            "cpuid level\t: 13\n",
            "wp\t\t: yes\n",
            "flags\t\t: fpu vme de pse tsc msr pae mce cx8 apic sep mtrr pge mca cmov pat pse36 clflush mmx fxsr sse sse2 ss ht syscall nx pdpe1gb rdtscp lm constant_tsc rep_good nopl xtopology nonstop_tsc cpuid tsc_known_freq pni pclmulqdq ssse3 fma cx16 pcid sse4_1 sse4_2 x2apic movbe popcnt aes xsave avx f16c rdrand hypervisor lahf_lm abm invpcid_single ssbd ibrs ibpb stibp fsgsbase tsc_adjust bmi1 avx2 smep bmi2 erms invpcid xsaveopt arat md_clear arch_capabilities\n",
            "bugs\t\t: cpu_meltdown spectre_v1 spectre_v2 spec_store_bypass l1tf mds swapgs\n",
            "bogomips\t: 4600.00\n",
            "clflush size\t: 64\n",
            "cache_alignment\t: 64\n",
            "address sizes\t: 46 bits physical, 48 bits virtual\n",
            "power management:\n",
            "\n"
          ],
          "name": "stdout"
        }
      ]
    },
    {
      "cell_type": "code",
      "metadata": {
        "id": "ESOmKHXKc4R_",
        "colab_type": "code",
        "outputId": "67be7baf-9509-45b8-a463-8da4ff2735a0",
        "colab": {
          "base_uri": "https://localhost:8080/",
          "height": 817
        }
      },
      "source": [
        "!cat /proc/meminfo"
      ],
      "execution_count": 0,
      "outputs": [
        {
          "output_type": "stream",
          "text": [
            "MemTotal:       13335188 kB\n",
            "MemFree:         8943680 kB\n",
            "MemAvailable:   12392320 kB\n",
            "Buffers:          110452 kB\n",
            "Cached:          2518984 kB\n",
            "SwapCached:            0 kB\n",
            "Active:           880684 kB\n",
            "Inactive:        3250076 kB\n",
            "Active(anon):     507940 kB\n",
            "Inactive(anon):      324 kB\n",
            "Active(file):     372744 kB\n",
            "Inactive(file):  3249752 kB\n",
            "Unevictable:           0 kB\n",
            "Mlocked:               0 kB\n",
            "SwapTotal:             0 kB\n",
            "SwapFree:              0 kB\n",
            "Dirty:               460 kB\n",
            "Writeback:             0 kB\n",
            "AnonPages:       1501216 kB\n",
            "Mapped:           368896 kB\n",
            "Shmem:               880 kB\n",
            "Slab:             167620 kB\n",
            "SReclaimable:     134216 kB\n",
            "SUnreclaim:        33404 kB\n",
            "KernelStack:        4256 kB\n",
            "PageTables:         9260 kB\n",
            "NFS_Unstable:          0 kB\n",
            "Bounce:                0 kB\n",
            "WritebackTmp:          0 kB\n",
            "CommitLimit:     6667592 kB\n",
            "Committed_AS:    4293820 kB\n",
            "VmallocTotal:   34359738367 kB\n",
            "VmallocUsed:           0 kB\n",
            "VmallocChunk:          0 kB\n",
            "AnonHugePages:     98304 kB\n",
            "ShmemHugePages:        0 kB\n",
            "ShmemPmdMapped:        0 kB\n",
            "HugePages_Total:       0\n",
            "HugePages_Free:        0\n",
            "HugePages_Rsvd:        0\n",
            "HugePages_Surp:        0\n",
            "Hugepagesize:       2048 kB\n",
            "DirectMap4k:       65524 kB\n",
            "DirectMap2M:     6225920 kB\n",
            "DirectMap1G:     9437184 kB\n"
          ],
          "name": "stdout"
        }
      ]
    }
  ]
}