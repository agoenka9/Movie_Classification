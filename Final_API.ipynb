{
  "nbformat": 4,
  "nbformat_minor": 0,
  "metadata": {
    "colab": {
      "name": "Final_API.ipynb",
      "provenance": []
    },
    "kernelspec": {
      "name": "python3",
      "display_name": "Python 3"
    }
  },
  "cells": [
    {
      "cell_type": "code",
      "metadata": {
        "id": "nQtSms4ob6V6",
        "colab_type": "code",
        "outputId": "2ca1fb52-41ed-4d28-fd53-360c08d68df2",
        "colab": {
          "base_uri": "https://localhost:8080/",
          "height": 71
        }
      },
      "source": [
        "CLIENT_SECRETS_FILE = \"/content/client_secret.json\"\n",
        "\n",
        "SCOPES = ['https://www.googleapis.com/auth/youtube.force-ssl']\n",
        "API_SERVICE_NAME = 'youtube'\n",
        "API_VERSION = 'v3'\n",
        "\n",
        "import os\n",
        "import google.oauth2.credentials\n",
        "import pandas as pd\n",
        "from google.colab import files\n",
        " \n",
        "from googleapiclient.discovery import build\n",
        "from googleapiclient.errors import HttpError\n",
        "from google_auth_oauthlib.flow import InstalledAppFlow\n",
        " \n",
        "def get_authenticated_service():\n",
        "    flow = InstalledAppFlow.from_client_secrets_file(CLIENT_SECRETS_FILE, SCOPES)\n",
        "    credentials = flow.run_console()\n",
        "    return build(API_SERVICE_NAME, API_VERSION, credentials = credentials)\n",
        "\n",
        "if __name__ == '__main__':\n",
        "    os.environ['OAUTHLIB_INSECURE_TRANSPORT'] = '1'\n",
        "    service = get_authenticated_service()"
      ],
      "execution_count": 0,
      "outputs": [
        {
          "output_type": "stream",
          "text": [
            "Please visit this URL to authorize this application: https://accounts.google.com/o/oauth2/auth?response_type=code&client_id=949987838741-nromq6qpifgsv277plo4g7h4hf50vrfh.apps.googleusercontent.com&redirect_uri=urn%3Aietf%3Awg%3Aoauth%3A2.0%3Aoob&scope=https%3A%2F%2Fwww.googleapis.com%2Fauth%2Fyoutube.force-ssl&state=Us3ZBDqdPIY1EnNM51lRhO9vsQc4wD&prompt=consent&access_type=offline\n",
            "Enter the authorization code: 4/ywFNdvkHr5mvSgIzgxOFESMjMAdHyMU8Prq0dNNeJrLhvf4Mfibq4gU\n"
          ],
          "name": "stdout"
        }
      ]
    },
    {
      "cell_type": "code",
      "metadata": {
        "id": "xcDT-K2_cC-J",
        "colab_type": "code",
        "colab": {}
      },
      "source": [
        "\n",
        "def get_video_comments(service, **kwargs):\n",
        "    comments = []\n",
        "    pub_dates = []\n",
        "    like_Counts = []\n",
        "    #time.sleep(2)\n",
        "    results = service.commentThreads().list(**kwargs).execute()\n",
        " \n",
        "    while results:\n",
        "        print(\"i\")\n",
        "        for item in results['items']:\n",
        "            comment = item['snippet']['topLevelComment']['snippet']['textDisplay']\n",
        "            pub_date = item['snippet']['topLevelComment']['snippet']['publishedAt']\n",
        "            like_count = item['snippet']['topLevelComment']['snippet']['likeCount']\n",
        "            like_Counts.append(like_count)\n",
        "            pub_dates.append(pub_date)\n",
        "            comments.append(comment)\n",
        " \n",
        "        if 'nextPageToken' in results:\n",
        "            kwargs['pageToken'] = results['nextPageToken']\n",
        "            #time.sleep(2)\n",
        "            try:\n",
        "              results = service.commentThreads().list(**kwargs).execute()\n",
        "            except HttpError as h:\n",
        "              continue\n",
        "        else:\n",
        "            break\n",
        "    return comments,pub_dates,like_Counts"
      ],
      "execution_count": 0,
      "outputs": []
    },
    {
      "cell_type": "code",
      "metadata": {
        "id": "U-9l2fsGcDHk",
        "colab_type": "code",
        "outputId": "26160517-7ea6-451d-c02e-81f19fd288d1",
        "colab": {
          "base_uri": "https://localhost:8080/",
          "height": 598
        }
      },
      "source": [
        "video_id=\"8KwQkxW1bVc\"\n",
        "comments,pub_dates,like_Counts=get_video_comments(service, part=\"snippet\",videoId=video_id, textFormat='plainText',maxResults=100)\n",
        "df=pd.DataFrame()\n",
        "df['comments']=comments\n",
        "df['pub_dates']=pub_dates\n",
        "df['like_Counts']=like_Counts\n",
        "file_name=video_id+\".csv\"\n",
        "df.to_csv(file_name)\n",
        "\n",
        "print(\"downloading\")\n",
        "files.download(file_name)"
      ],
      "execution_count": 0,
      "outputs": [
        {
          "output_type": "stream",
          "text": [
            "i\n",
            "i\n",
            "i\n",
            "i\n",
            "i\n",
            "i\n",
            "i\n",
            "i\n",
            "i\n",
            "i\n",
            "i\n",
            "i\n",
            "i\n",
            "i\n",
            "i\n",
            "i\n",
            "i\n",
            "i\n",
            "i\n",
            "i\n",
            "i\n",
            "i\n",
            "i\n",
            "i\n",
            "i\n",
            "i\n",
            "i\n",
            "i\n",
            "i\n",
            "i\n",
            "i\n",
            "i\n",
            "i\n",
            "downloading\n"
          ],
          "name": "stdout"
        }
      ]
    },
    {
      "cell_type": "code",
      "metadata": {
        "id": "dNWY0onRcDLE",
        "colab_type": "code",
        "colab": {}
      },
      "source": [
        "files.download(file_name)\n"
      ],
      "execution_count": 0,
      "outputs": []
    },
    {
      "cell_type": "code",
      "metadata": {
        "id": "HCh-JN07mQoj",
        "colab_type": "code",
        "colab": {}
      },
      "source": [
        "df.head()\n",
        "df.to_csv(\"poLjq0u4_5A.csv\")\n",
        "files.download(\"poLjq0u4_5A.csv\")"
      ],
      "execution_count": 0,
      "outputs": []
    },
    {
      "cell_type": "code",
      "metadata": {
        "id": "f1gwRs8DFMjV",
        "colab_type": "code",
        "colab": {}
      },
      "source": [
        "df.to_csv(\"mani.csv\")\n",
        "files.download(\"mani.csv\")"
      ],
      "execution_count": 0,
      "outputs": []
    },
    {
      "cell_type": "code",
      "metadata": {
        "id": "vV0ApPCwcDNm",
        "colab_type": "code",
        "colab": {}
      },
      "source": [
        "import time"
      ],
      "execution_count": 0,
      "outputs": []
    },
    {
      "cell_type": "code",
      "metadata": {
        "id": "EIVb2wm-fAkq",
        "colab_type": "code",
        "colab": {}
      },
      "source": [
        "comments = []\n",
        "pub_dates = []\n",
        "like_Counts = []\n",
        "results = service.commentThreads().list(part=\"snippet\",videoId=\"q10nfS9V090\", textFormat='plainText').execute()\n",
        "while results:\n",
        "  print(\"iterate \")\n",
        "  for item in results['items']:\n",
        "    comment = item['snippet']['topLevelComment']['snippet']['textDisplay']\n",
        "    pub_date = item['snippet']['topLevelComment']['snippet']['publishedAt']\n",
        "    like_count = item['snippet']['topLevelComment']['snippet']['likeCount']\n",
        "    like_Counts.append(like_count)\n",
        "    pub_dates.append(pub_date)\n",
        "    comments.append(comment)\n",
        " \n",
        "  if 'nextPageToken' in results:\n",
        "    pageTokenc = results['nextPageToken']\n",
        "    #time.sleep(2)\n",
        "    try:\n",
        "      results = service.commentThreads().list(part=\"snippet\",videoId=\"q10nfS9V090\", textFormat='plainText',pageToken=pageTokenc).execute()\n",
        "    except HttpError as h:\n",
        "      continue\n",
        "\n",
        "  else:\n",
        "    break"
      ],
      "execution_count": 0,
      "outputs": []
    },
    {
      "cell_type": "code",
      "metadata": {
        "id": "FOMRrYdyf7Fu",
        "colab_type": "code",
        "colab": {}
      },
      "source": [
        "res=service.commentThreads().list(part=\"snippet\",videoId=\"veJ6ejMjzgE\", textFormat='plainText',maxResults=100).execute()"
      ],
      "execution_count": 0,
      "outputs": []
    },
    {
      "cell_type": "code",
      "metadata": {
        "id": "B-Bs--NWnmjs",
        "colab_type": "code",
        "outputId": "8a2fa5b5-b46e-45c1-8c47-24d7dc5b0b99",
        "colab": {
          "base_uri": "https://localhost:8080/",
          "height": 54
        }
      },
      "source": [
        "res['nextPageToken']"
      ],
      "execution_count": 0,
      "outputs": [
        {
          "output_type": "execute_result",
          "data": {
            "text/plain": [
              "'QURTSl9pMWVBOXZVakdQSWJxQlhvS2NxdTlIclVXT0FWTXhLeXA4c1BVc0ljV1o1RVNjMmpPRU1RX1VJRTB0eTYxMm1tNzlKWF9vcU5QcGIxQjZiOGFnWG9xNXlVMlJobFFvZmhlN1h3a3c4WW5sVUs4Xzg4WENfTFgxbHNiVEZzQm8='"
            ]
          },
          "metadata": {
            "tags": []
          },
          "execution_count": 27
        }
      ]
    },
    {
      "cell_type": "code",
      "metadata": {
        "id": "Hfim4timnuMq",
        "colab_type": "code",
        "colab": {}
      },
      "source": [
        "res2=service.commentThreads().list(part=\"snippet\",videoId=\"veJ6ejMjzgE\", textFormat='plainText',maxResults=100,pageToken=res['nextPageToken']).execute()"
      ],
      "execution_count": 0,
      "outputs": []
    },
    {
      "cell_type": "code",
      "metadata": {
        "id": "vyUcZodroCj4",
        "colab_type": "code",
        "outputId": "3faa230b-cf74-40ae-d7ea-9c51bc54020a",
        "colab": {
          "base_uri": "https://localhost:8080/",
          "height": 34
        }
      },
      "source": [
        "res2['items'][0]['snippet']['topLevelComment']['snippet']['publishedAt']"
      ],
      "execution_count": 0,
      "outputs": [
        {
          "output_type": "execute_result",
          "data": {
            "text/plain": [
              "'2020-01-20T18:08:47.000Z'"
            ]
          },
          "metadata": {
            "tags": []
          },
          "execution_count": 42
        }
      ]
    },
    {
      "cell_type": "code",
      "metadata": {
        "id": "cwjInL_AqEoI",
        "colab_type": "code",
        "outputId": "ba539d91-6f63-444b-fb73-acb4bc567c41",
        "colab": {
          "base_uri": "https://localhost:8080/",
          "height": 34
        }
      },
      "source": [
        "res['items'][-1]['snippet']['topLevelComment']['snippet']['publishedAt']"
      ],
      "execution_count": 0,
      "outputs": [
        {
          "output_type": "execute_result",
          "data": {
            "text/plain": [
              "'2020-01-20T20:02:24.000Z'"
            ]
          },
          "metadata": {
            "tags": []
          },
          "execution_count": 44
        }
      ]
    },
    {
      "cell_type": "code",
      "metadata": {
        "id": "Ca9wRjawpyuT",
        "colab_type": "code",
        "outputId": "a1015bac-4f50-430e-cc8e-f88ac2f7af5d",
        "colab": {
          "base_uri": "https://localhost:8080/",
          "height": 34
        }
      },
      "source": [
        "res2['items'][0]['snippet'][]"
      ],
      "execution_count": 0,
      "outputs": [
        {
          "output_type": "execute_result",
          "data": {
            "text/plain": [
              "dict_keys(['videoId', 'topLevelComment', 'canReply', 'totalReplyCount', 'isPublic'])"
            ]
          },
          "metadata": {
            "tags": []
          },
          "execution_count": 41
        }
      ]
    }
  ]
}